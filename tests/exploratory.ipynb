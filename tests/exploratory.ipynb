{
 "cells": [
  {
   "cell_type": "code",
   "execution_count": null,
   "metadata": {},
   "outputs": [],
   "source": [
    "import br_army_knife as bak\n",
    "import time"
   ]
  },
  {
   "cell_type": "code",
   "execution_count": null,
   "metadata": {},
   "outputs": [],
   "source": [
    "bak.files.create_complete_path(\"../testing/one/new/thing/logninho.log\")"
   ]
  },
  {
   "cell_type": "code",
   "execution_count": null,
   "metadata": {},
   "outputs": [],
   "source": [
    "log = bak.logs.Log(log_path=\"../testing/one/new/thing/logninho.log\", log_terminal=False, parallel_lock=False)"
   ]
  },
  {
   "cell_type": "code",
   "execution_count": null,
   "metadata": {},
   "outputs": [],
   "source": [
    "import multiprocessing as mp\n",
    "import threading"
   ]
  },
  {
   "cell_type": "code",
   "execution_count": null,
   "metadata": {},
   "outputs": [],
   "source": [
    "log.log(f\"{str('321')} testando o log\")"
   ]
  },
  {
   "cell_type": "code",
   "execution_count": null,
   "metadata": {},
   "outputs": [],
   "source": [
    "bak.parallel.MultiLock()"
   ]
  },
  {
   "cell_type": "code",
   "execution_count": null,
   "metadata": {},
   "outputs": [],
   "source": [
    "def tst(msg):\n",
    "    time.sleep(1)\n",
    "    log.log(f\"{str(msg)} testando o log\", parallel_lock=True)"
   ]
  },
  {
   "cell_type": "code",
   "execution_count": null,
   "metadata": {},
   "outputs": [],
   "source": [
    "with mp.Pool(processes=10) as pool:\n",
    "    pool.imap(\n",
    "        tst,\n",
    "        [x for x in range(1, 100)],\n",
    "        chunksize=1\n",
    "    )\n",
    "\n",
    "\n"
   ]
  },
  {
   "cell_type": "code",
   "execution_count": null,
   "metadata": {},
   "outputs": [],
   "source": []
  },
  {
   "cell_type": "code",
   "execution_count": null,
   "metadata": {},
   "outputs": [],
   "source": [
    "with bak.parallel.MultiLock() as lock:\n",
    "    print(\"test\")"
   ]
  },
  {
   "cell_type": "code",
   "execution_count": null,
   "metadata": {},
   "outputs": [],
   "source": [
    "a = \"test/test2/test5\"\n",
    "b = \"./test/test2/test5/file.log\"\n",
    "c = \"../test/test2/test5\"\n",
    "d = \".../test/test2/test5/\"\n",
    "e = \"\""
   ]
  },
  {
   "cell_type": "code",
   "execution_count": null,
   "metadata": {},
   "outputs": [],
   "source": [
    "prefix, sulfix = \"\", \"\"\n",
    "sl = path.split(\"/\")\n",
    "\n",
    "if sl[0][0] == \".\":\n",
    "    prefix, sl = sl[0], sl[1:]\n",
    "if \".\" in sl[-1]:\n",
    "    sulfix, sl = sl[-1], sl[:-1]\n",
    "\n",
    "for ps in [sl[:i+1] for i in range(len(sl))]:"
   ]
  },
  {
   "cell_type": "code",
   "execution_count": null,
   "metadata": {},
   "outputs": [],
   "source": [
    "\"\".join(map(str,[prefix, *ps]))\n"
   ]
  },
  {
   "cell_type": "code",
   "execution_count": null,
   "metadata": {},
   "outputs": [],
   "source": [
    "\".\" in b.split(\"/\")[-1]"
   ]
  },
  {
   "cell_type": "code",
   "execution_count": null,
   "metadata": {},
   "outputs": [],
   "source": [
    "prefix, sulfix = \"\", \"\"\n",
    "sl = e.split(\"/\")\n",
    "\n",
    "if sl[0][0] == \".\":\n",
    "    prefix, sl = sl[0], sl[1:]\n",
    "if \".\" in sl[-1]:\n",
    "    sulfix, sl = sl[-1], sl[:-1]\n",
    "prefix, sl, sulfix"
   ]
  },
  {
   "cell_type": "code",
   "execution_count": null,
   "metadata": {},
   "outputs": [],
   "source": [
    "a = [1, 2, 3]\n",
    "for ps in [a[:i + 1] for i in range(len(a))]:\n",
    "    print(ps)"
   ]
  },
  {
   "cell_type": "code",
   "execution_count": null,
   "metadata": {},
   "outputs": [],
   "source": [
    "if \"\":\n",
    "    print(1)"
   ]
  }
 ],
 "metadata": {
  "kernelspec": {
   "display_name": "Python 3",
   "language": "python",
   "name": "python3"
  },
  "language_info": {
   "codemirror_mode": {
    "name": "ipython",
    "version": 3
   },
   "file_extension": ".py",
   "mimetype": "text/x-python",
   "name": "python",
   "nbconvert_exporter": "python",
   "pygments_lexer": "ipython3",
   "version": "3.12.3"
  }
 },
 "nbformat": 4,
 "nbformat_minor": 2
}
