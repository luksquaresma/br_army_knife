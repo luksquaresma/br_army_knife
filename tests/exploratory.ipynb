{
 "cells": [
  {
   "cell_type": "code",
   "execution_count": 54,
   "metadata": {},
   "outputs": [],
   "source": [
    "import br_army_knife as bak\n",
    "import time"
   ]
  },
  {
   "cell_type": "code",
   "execution_count": 55,
   "metadata": {},
   "outputs": [],
   "source": [
    "bak.files.create_complete_path(\"../testing/one/new/thing/logninho.log\")"
   ]
  },
  {
   "cell_type": "code",
   "execution_count": 56,
   "metadata": {},
   "outputs": [],
   "source": [
    "log = bak.logs.Log(log_path=\"../testing/one/new/thing/logninho.log\", log_terminal=False, parallel_lock=False)"
   ]
  },
  {
   "cell_type": "code",
   "execution_count": 63,
   "metadata": {},
   "outputs": [],
   "source": [
    "import multiprocessing as mp\n",
    "import threading"
   ]
  },
  {
   "cell_type": "code",
   "execution_count": 58,
   "metadata": {},
   "outputs": [],
   "source": [
    "log.log(f\"{str('321')} testando o log\")"
   ]
  },
  {
   "cell_type": "code",
   "execution_count": 60,
   "metadata": {},
   "outputs": [
    {
     "data": {
      "text/plain": [
       "<br_army_knife.parallel.MultiLock at 0x7ee4d87657e0>"
      ]
     },
     "execution_count": 60,
     "metadata": {},
     "output_type": "execute_result"
    }
   ],
   "source": [
    "bak.parallel.MultiLock()"
   ]
  },
  {
   "cell_type": "code",
   "execution_count": 61,
   "metadata": {},
   "outputs": [],
   "source": [
    "def tst(msg):\n",
    "    time.sleep(1)\n",
    "    log.log(f\"{str(msg)} testando o log\", parallel_lock=True)"
   ]
  },
  {
   "cell_type": "code",
   "execution_count": 64,
   "metadata": {},
   "outputs": [
    {
     "ename": "AttributeError",
     "evalue": "module 'threading' has no attribute 'Pool'",
     "output_type": "error",
     "traceback": [
      "\u001b[0;31m---------------------------------------------------------------------------\u001b[0m",
      "\u001b[0;31mAttributeError\u001b[0m                            Traceback (most recent call last)",
      "Cell \u001b[0;32mIn[64], line 1\u001b[0m\n\u001b[0;32m----> 1\u001b[0m \u001b[38;5;28;01mwith\u001b[39;00m \u001b[43mthreading\u001b[49m\u001b[38;5;241;43m.\u001b[39;49m\u001b[43mPool\u001b[49m(processes\u001b[38;5;241m=\u001b[39m\u001b[38;5;241m10\u001b[39m) \u001b[38;5;28;01mas\u001b[39;00m pool:\n\u001b[1;32m      2\u001b[0m     pool\u001b[38;5;241m.\u001b[39mimap(\n\u001b[1;32m      3\u001b[0m         tst,\n\u001b[1;32m      4\u001b[0m         [x \u001b[38;5;28;01mfor\u001b[39;00m x \u001b[38;5;129;01min\u001b[39;00m \u001b[38;5;28mrange\u001b[39m(\u001b[38;5;241m1\u001b[39m, \u001b[38;5;241m100\u001b[39m)],\n\u001b[1;32m      5\u001b[0m         chunksize\u001b[38;5;241m=\u001b[39m\u001b[38;5;241m1\u001b[39m\n\u001b[1;32m      6\u001b[0m     )\n",
      "\u001b[0;31mAttributeError\u001b[0m: module 'threading' has no attribute 'Pool'"
     ]
    }
   ],
   "source": [
    "with mp.Pool(processes=10) as pool:\n",
    "    pool.imap(\n",
    "        tst,\n",
    "        [x for x in range(1, 100)],\n",
    "        chunksize=1\n",
    "    )\n",
    "\n",
    "\n"
   ]
  },
  {
   "cell_type": "code",
   "execution_count": 5,
   "metadata": {},
   "outputs": [],
   "source": []
  },
  {
   "cell_type": "code",
   "execution_count": null,
   "metadata": {},
   "outputs": [],
   "source": [
    "with bak.parallel.MultiLock() as lock:\n",
    "    print(\"test\")"
   ]
  },
  {
   "cell_type": "code",
   "execution_count": null,
   "metadata": {},
   "outputs": [],
   "source": [
    "a = \"test/test2/test5\"\n",
    "b = \"./test/test2/test5/file.log\"\n",
    "c = \"../test/test2/test5\"\n",
    "d = \".../test/test2/test5/\"\n",
    "e = \"\""
   ]
  },
  {
   "cell_type": "code",
   "execution_count": null,
   "metadata": {},
   "outputs": [],
   "source": [
    "prefix, sulfix = \"\", \"\"\n",
    "sl = path.split(\"/\")\n",
    "\n",
    "if sl[0][0] == \".\":\n",
    "    prefix, sl = sl[0], sl[1:]\n",
    "if \".\" in sl[-1]:\n",
    "    sulfix, sl = sl[-1], sl[:-1]\n",
    "\n",
    "for ps in [sl[:i+1] for i in range(len(sl))]:"
   ]
  },
  {
   "cell_type": "code",
   "execution_count": null,
   "metadata": {},
   "outputs": [],
   "source": [
    "\"\".join(map(str,[prefix, *ps]))\n"
   ]
  },
  {
   "cell_type": "code",
   "execution_count": null,
   "metadata": {},
   "outputs": [],
   "source": [
    "\".\" in b.split(\"/\")[-1]"
   ]
  },
  {
   "cell_type": "code",
   "execution_count": null,
   "metadata": {},
   "outputs": [],
   "source": [
    "prefix, sulfix = \"\", \"\"\n",
    "sl = e.split(\"/\")\n",
    "\n",
    "if sl[0][0] == \".\":\n",
    "    prefix, sl = sl[0], sl[1:]\n",
    "if \".\" in sl[-1]:\n",
    "    sulfix, sl = sl[-1], sl[:-1]\n",
    "prefix, sl, sulfix"
   ]
  },
  {
   "cell_type": "code",
   "execution_count": null,
   "metadata": {},
   "outputs": [],
   "source": [
    "a = [1, 2, 3]\n",
    "for ps in [a[:i + 1] for i in range(len(a))]:\n",
    "    print(ps)"
   ]
  },
  {
   "cell_type": "code",
   "execution_count": null,
   "metadata": {},
   "outputs": [],
   "source": [
    "if \"\":\n",
    "    print(1)"
   ]
  }
 ],
 "metadata": {
  "kernelspec": {
   "display_name": "Python 3",
   "language": "python",
   "name": "python3"
  },
  "language_info": {
   "codemirror_mode": {
    "name": "ipython",
    "version": 3
   },
   "file_extension": ".py",
   "mimetype": "text/x-python",
   "name": "python",
   "nbconvert_exporter": "python",
   "pygments_lexer": "ipython3",
   "version": "3.10.12"
  }
 },
 "nbformat": 4,
 "nbformat_minor": 2
}
